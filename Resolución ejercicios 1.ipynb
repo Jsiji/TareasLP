{
  "nbformat": 4,
  "nbformat_minor": 0,
  "metadata": {
    "colab": {
      "provenance": [],
      "authorship_tag": "ABX9TyO3JuqUOX1XFj7/pSKHek6U",
      "include_colab_link": true
    },
    "kernelspec": {
      "name": "python3",
      "display_name": "Python 3"
    },
    "language_info": {
      "name": "python"
    }
  },
  "cells": [
    {
      "cell_type": "markdown",
      "metadata": {
        "id": "view-in-github",
        "colab_type": "text"
      },
      "source": [
        "<a href=\"https://colab.research.google.com/github/Jsiji/TareasLP/blob/main/Resoluci%C3%B3n%20ejercicios%201.ipynb\" target=\"_parent\"><img src=\"https://colab.research.google.com/assets/colab-badge.svg\" alt=\"Open In Colab\"/></a>"
      ]
    },
    {
      "cell_type": "code",
      "execution_count": null,
      "metadata": {
        "colab": {
          "base_uri": "https://localhost:8080/"
        },
        "id": "3VIrRH2fEi05",
        "outputId": "06b2956f-be96-47b4-bf63-d4ee4d162eec"
      },
      "outputs": [
        {
          "output_type": "stream",
          "name": "stdout",
          "text": [
            "Uno, dos, tres...\n",
            "... cuatro, cinco, seis.\n"
          ]
        }
      ],
      "source": [
        "\n",
        "print(\"Uno, dos, tres...\")\n",
        "print(\"... cuatro, cinco, seis.\")"
      ]
    },
    {
      "cell_type": "code",
      "source": [
        "\n",
        "w = \"La noche está estrellada, y tiritan, azules, los astros, a lo lejos\"\n",
        "x = \"Puedo escribir los versos más tristes esta noche.\"\n",
        "y = \"Escribir, por ejemplo:\"\n",
        "z = \"El viento de la noche gira en el cielo y canta.\"\n",
        "espacio = \" \"\n",
        "print(f'{x}{espacio}')\n",
        "print(f'{y}{espacio}{w}{espacio}')\n",
        "print(f'{z}')"
      ],
      "metadata": {
        "id": "gW8koLXzE0g3",
        "colab": {
          "base_uri": "https://localhost:8080/"
        },
        "outputId": "0d4b2618-a0bc-460c-8ff9-c6152fc8423f"
      },
      "execution_count": null,
      "outputs": [
        {
          "output_type": "stream",
          "name": "stdout",
          "text": [
            "Puedo escribir los versos más tristes esta noche. \n",
            "Escribir, por ejemplo: La noche está estrellada, y tiritan, azules, los astros, a lo lejos \n",
            "El viento de la noche gira en el cielo y canta.\n"
          ]
        }
      ]
    },
    {
      "cell_type": "code",
      "source": [
        "\n",
        "primera_practica = 16\n",
        "segunda_practica = 13\n",
        "tercera_practica = 19\n",
        "cuarta_practica = 8\n",
        "\n",
        "promedio_de_practicas = round(primera_practica+segunda_practica+tercera_practica+cuarta_practica)/4\n",
        "\n",
        "print(f'El promedio de las 4 prácticas es {promedio_de_practicas}')"
      ],
      "metadata": {
        "colab": {
          "base_uri": "https://localhost:8080/"
        },
        "id": "TsJCVjK4Hyj5",
        "outputId": "8e23a661-067b-4861-bc44-4af2853e2ebb"
      },
      "execution_count": null,
      "outputs": [
        {
          "output_type": "stream",
          "name": "stdout",
          "text": [
            "El promedio de las 4 prácticas es 14.0\n"
          ]
        }
      ]
    }
  ]
}